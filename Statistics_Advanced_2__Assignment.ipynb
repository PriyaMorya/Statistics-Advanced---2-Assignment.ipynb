{
  "nbformat": 4,
  "nbformat_minor": 0,
  "metadata": {
    "colab": {
      "provenance": []
    },
    "kernelspec": {
      "name": "python3",
      "display_name": "Python 3"
    },
    "language_info": {
      "name": "python"
    }
  },
  "cells": [
    {
      "cell_type": "markdown",
      "source": [
        "#Statistics Advanced - 2| Assignment"
      ],
      "metadata": {
        "id": "2p4IkiBMvAYb"
      }
    },
    {
      "cell_type": "markdown",
      "source": [
        "Question 1: What is hypothesis testing in statistics?\n",
        " -  Ans. **Hypothesis testing** in statistics is a method used to make decisions or inferences about a population based on sample data.\n",
        "\n",
        "It helps us check whether the evidence from a sample is strong enough to support or reject a claim (hypothesis) about the population.\n",
        "\n",
        "**Key Steps in Hypothesis Testing:**\n",
        "\n",
        "1. Formulate hypotheses\n",
        "\n",
        "Null Hypothesis (H₀): The default assumption (e.g., “there is no effect” or “the population mean = 50”).\n",
        "\n",
        "Alternative Hypothesis (H₁ or Ha): What we want to test (e.g., “there is an effect” or “the population mean ≠ 50”).\n",
        "\n",
        "2. Choose a significance level (α):\n",
        "Common values are 0.05 or 0.01.\n",
        "\n",
        "It represents the probability of rejecting H₀ when it is actually true (Type I error).\n",
        "\n",
        "3. Select a test statistic:\n",
        "\n",
        "It depends on the type of data and test (z-test, t-test, chi-square test, etc.).\n",
        "\n",
        "\n",
        "4. Calculate the p-value (or compare test statistic to critical value):\n",
        "\n",
        "p-value = probability of obtaining results as extreme as the observed, assuming H₀ is true.\n",
        "\n",
        "5. Decision Rule:\n",
        "\n",
        "If p ≤ α, reject H₀ (evidence supports H₁).\n",
        "\n",
        "If p > α, fail to reject H₀ (not enough evidence against H₀).\n",
        "Example:\n",
        "A company claims that the average lifetime of its batteries is 500 hours. A sample of batteries is tested.\n",
        "\n",
        "H₀: μ = 500 (claim is correct)\n",
        "\n",
        "H₁: μ ≠ 500 (claim is wrong)\n",
        "If the test shows a very low p-value, we reject H₀ and conclude that the average lifetime is not 500 hours.\n",
        "\n",
        "\n"
      ],
      "metadata": {
        "id": "wuFVkMWyvIYS"
      }
    },
    {
      "cell_type": "markdown",
      "source": [
        "Question 2: What is the null hypothesis, and how does it differ from the alternative hypothesis?\n",
        "- **Null Hypothesis (H₀)**\n",
        "•\tWhat it is:\n",
        "A default, conservative statement that there is no real effect or relationship between the variables being studied.\n",
        "•\tPurpose:\n",
        "It is the hypothesis that the researcher aims to reject or disprove with their data.\n",
        "•\tSymbol:\n",
        "Always denoted as H₀.\n",
        "•\tMathematical representation:\n",
        "Often uses an equals sign (=), or signs like greater than or equal to (≥) or less than or equal to (≤).\n",
        "•\tExample:\n",
        "\"There is no difference in the average test scores between students who use study method A and students who use study method B\".\n",
        "\n",
        "**Alternative Hypothesis (H₁ or Hₐ)**\n",
        "•\tWhat it is: A statement that proposes that there is a statistically significant relationship or effect between variables.\n",
        "•\tPurpose: This is the hypothesis the researcher aims to prove or establish.\n",
        "•\tSymbol: Denoted as H₁ or Hₐ.\n",
        "•\tMathematical representation: Uses inequality symbols (<, >, or ≠).\n",
        "•\tExample: \"Students who use study method A will have significantly higher test scores than students who use study method B\".\n",
        "\n",
        "In short:\n",
        "\n",
        "H₀ is the assumption we start with.\n",
        "\n",
        "H₁ is what we suspect and try to prove.\n",
        "\n",
        "We never prove H₀ true; we either reject it (favoring H₁) or fail to reject it (not enough evidence).\n"
      ],
      "metadata": {
        "id": "tLKxMstMvjgd"
      }
    },
    {
      "cell_type": "markdown",
      "source": [
        "Question 3: Explain the significance level in hypothesis testing and its role in deciding the outcome of a test.\n",
        " -  **The Significance Level (α) in Hypothesis Testing**:\n",
        "•\tRisk of a False Positive:\n",
        "α quantifies the maximum acceptable risk of incorrectly concluding that a real effect or difference exists when it doesn't.\n",
        "•\tThreshold for Rejection:\n",
        "It sets a benchmark to determine how far a sample statistic needs to be from the null hypothesis value to be considered unusual enough to reject the null hypothesis.\n",
        "•\tEvidence Standard:\n",
        "A significance level defines the strength of evidence required from the sample to reject the null hypothesis for the entire population.\n",
        "  - **The Role in Deciding the Outcome**\n",
        "1.\tSetting the Threshold: Before any data is collected, the researcher chooses a significance level (e.g., 0.05 or 5%). This choice is made based on the specific field of study and the potential costs of a false positive.\n",
        "2.\tComparing p-value to α: After the experiment and statistical test, a p-value is calculated.\n",
        "3.\tMaking the Decision:\n",
        "o\tIf the p-value < α: The result is considered statistically significant. The sample evidence is strong enough to reject the null hypothesis.\n",
        "o\tIf the p-value ≥ α: The result is not considered statistically significant. The null hypothesis cannot be rejected, meaning there isn't enough evidence to conclude there is a real effect.\n",
        "\n"
      ],
      "metadata": {
        "id": "vwWMpxltwAxJ"
      }
    },
    {
      "cell_type": "markdown",
      "source": [
        "Question 4: What are Type I and Type II errors? Give examples of each.\n",
        " - **Type I Error (False Positive)**\n",
        "\n",
        "*Definition*: Rejecting the null hypothesis (H₀) when it is actually true.\n",
        "\n",
        "It means we detect an effect/difference when in reality there is none.\n",
        "\n",
        "Its probability = α (significance level).\n",
        "\n",
        " Example 1 (Medical Test):\n",
        "\n",
        "H₀: Patient does not have a disease.\n",
        "\n",
        "H₁: Patient has the disease.\n",
        "\n",
        "If the test says the patient has the disease when they don’t → Type I Error (false alarm).\n",
        "\n",
        " Example 2 (Courtroom):\n",
        "\n",
        "H₀: Defendant is innocent.\n",
        "\n",
        "H₁: Defendant is guilty.\n",
        "\n",
        "Wrongly convicting an innocent person = Type I Error.\n",
        "\n",
        "2. **Type II Error (False Negative)**\n",
        "*Definition*: Failing to reject H₀ when it is actually false.\n",
        "\n",
        "It means we miss a real effect/difference.\n",
        "\n",
        "Its probability = β. (1 − β = test power).\n",
        "\n",
        "\n",
        " Example 1 (Medical Test):\n",
        "\n",
        "H₀: Patient does not have a disease.\n",
        "\n",
        "H₁: Patient has the disease.\n",
        "\n",
        "If the test says the patient is healthy when they actually have the disease → Type II Error.\n",
        "\n",
        " Example 2 (Courtroom):\n",
        "\n",
        "H₀: Defendant is innocent.\n",
        "\n",
        "H₁: Defendant is guilty.\n",
        "\n",
        "Acquitting a guilty person = Type II Error.\n",
        " - In short:\n",
        "Type I error = false alarm (saying something is there when it’s not).\n",
        "Type II error = missed detection (failing to see something that is there).\n",
        "\n",
        "\n"
      ],
      "metadata": {
        "id": "c9DeaGilwlEQ"
      }
    },
    {
      "cell_type": "markdown",
      "source": [
        "Question 5: What is the difference between a Z-test and a T-test? Explain when to use each.\n",
        " - The Z-test and T-test are both used in hypothesis testing to compare sample data with population parameters, but they differ in assumptions and applications:\n",
        "\n",
        "1. Z-Test\n",
        "\n",
        "Used when:\n",
        "\n",
        "Sample size is large (n > 30).\n",
        "\n",
        "The population standard deviation (σ) is known.\n",
        "Data is (approximately) normally distributed.\n",
        "\n",
        "\n",
        "Examples:\n",
        "\n",
        "Testing whether the mean of a sample differs from a known population mean (with known σ).\n",
        "\n",
        "Comparing proportions in large samples.\n",
        "\n",
        " Example:\n",
        "A manufacturer claims that the mean weight of their product is 1 kg.\n",
        "\n",
        "Population σ = 0.05 is known.\n",
        "\n",
        "We take a sample of 50 products.\n",
        "\n",
        "Since n > 30 and σ is known → Z-test.\n",
        "\n",
        "2. T-Test\n",
        "\n",
        "Used when:\n",
        "\n",
        "Sample size is small (n ≤ 30).\n",
        "\n",
        "Population standard deviation (σ) is unknown (we use sample standard deviation, s).\n",
        "\n",
        "Data is (approximately) normally distributed.\n",
        "\n",
        "\n",
        "Examples:\n",
        "\n",
        "One-sample t-test: Checking if a sample mean differs from a hypothesized value.\n",
        "\n",
        "Two-sample t-test: Comparing means of two independent groups.\n",
        "\n",
        "Paired t-test: Comparing means from the same group before and after treatment.\n",
        "\n",
        " Example:\n",
        "We want to test if the average score of 20 students in a class differs from 70.\n",
        "\n",
        "σ unknown (we use s from the sample).\n",
        "\n",
        "n < 30.\n",
        "→ T-test is appropriate."
      ],
      "metadata": {
        "id": "4axRDtPZxIu-"
      }
    },
    {
      "cell_type": "markdown",
      "source": [
        "Question 6: Write a Python program to generate a binomial distribution with n=10 and p=0.5, then plot its histogram.\n",
        "\n",
        "(Include your Python code and output in the code box below.)\n",
        "Hint: Generate random number using random function."
      ],
      "metadata": {
        "id": "yUuunwQ1yHTO"
      }
    },
    {
      "cell_type": "code",
      "source": [
        "import numpy as np\n",
        "import matplotlib.pyplot as plt\n",
        "\n",
        "# Parameters\n",
        "n = 10      # number of trials\n",
        "p = 0.5     # probability of success\n",
        "size = 1000 # number of random samples\n",
        "\n",
        "# Generate binomial distribution\n",
        "data = np.random.binomial(n, p, size)\n",
        "\n",
        "# Plot histogram\n",
        "plt.hist(data, bins=range(n+2), edgecolor='black', align='left')\n",
        "plt.title(\"Binomial Distribution (n=10, p=0.5)\")\n",
        "plt.xlabel(\"Number of Successes\")\n",
        "plt.ylabel(\"Frequency\")\n",
        "plt.show()"
      ],
      "metadata": {
        "colab": {
          "base_uri": "https://localhost:8080/",
          "height": 472
        },
        "id": "OinVdJvzyPWL",
        "outputId": "db8a34c2-88ca-46f2-ec9d-f38b8aff3567"
      },
      "execution_count": 2,
      "outputs": [
        {
          "output_type": "display_data",
          "data": {
            "text/plain": [
              "<Figure size 640x480 with 1 Axes>"
            ],
            "image/png": "[encoded data removed]"
          },
          "metadata": {}
        }
      ]
    },
    {
      "cell_type": "markdown",
      "source": [
        "Question 7: Implement hypothesis testing using Z-statistics for a sample dataset in Python. Show the Python code and interpret the results.\n",
        "sample_data = [49.1, 50.2, 51.0, 48.7, 50.5, 49.8, 50.3, 50.7, 50.2, 49.6,                         50.1, 49.9, 50.8, 50.4, 48.9, 50.6, 50.0, 49.7, 50.2, 49.5,\n",
        "                        50.1, 50.3, 50.4, 50.5, 50.0, 50.7, 49.3, 49.8, 50.2, 50.9,\n",
        "                        50.3, 50.4, 50.0, 49.7, 50.5, 49.9]\n",
        "(Include your Python code and output in the code box below.)\n"
      ],
      "metadata": {
        "id": "_D_PZAmau-YW"
      }
    },
    {
      "cell_type": "code",
      "source": [
        "import numpy as np\n",
        "from scipy.stats import norm\n",
        "\n",
        "# Sample dataset\n",
        "sample_data = [49.1, 50.2, 51.0, 48.7, 50.5, 49.8, 50.3, 50.7, 50.2, 49.6,\n",
        "               50.1, 49.9, 50.8, 50.4, 48.9, 50.6, 50.0, 49.7, 50.2, 49.5,\n",
        "               50.1, 50.3, 50.4, 50.5, 50.0, 50.7, 49.3, 49.8, 50.2, 50.9,\n",
        "               50.3, 50.4, 50.0, 49.7, 50.5, 49.9]\n",
        "\n",
        "# Parameters\n",
        "mu_0 = 50       # Hypothesized population mean\n",
        "sigma = 0.5     # Known population standard deviation\n",
        "alpha = 0.05    # Significance level\n",
        "\n",
        "# Sample statistics\n",
        "sample_mean = np.mean(sample_data)\n",
        "n = len(sample_data)\n",
        "\n",
        "# Z-test statistic\n",
        "z_stat = (sample_mean - mu_0) / (sigma / np.sqrt(n))\n",
        "\n",
        "# Two-tailed p-value\n",
        "p_value = 2 * (1 - norm.cdf(abs(z_stat)))\n",
        "\n",
        "# Print results\n",
        "print(f\"Sample Mean = {sample_mean:.3f}\")\n",
        "print(f\"Z-statistic = {z_stat:.3f}\")\n",
        "print(f\"P-value = {p_value:.4f}\")\n",
        "\n",
        "# Decision\n",
        "if p_value < alpha:\n",
        "    print(\"Reject H0: Evidence suggests the population mean ≠ 50.\")\n",
        "else:\n",
        "    print(\"Fail to Reject H0: Not enough evidence to say the mean ≠ 50.\")"
      ],
      "metadata": {
        "colab": {
          "base_uri": "https://localhost:8080/"
        },
        "id": "uGQf_ZCryV98",
        "outputId": "cc210f51-42ac-4328-a769-21aaa2063714"
      },
      "execution_count": 3,
      "outputs": [
        {
          "output_type": "stream",
          "name": "stdout",
          "text": [
            "Sample Mean = 50.089\n",
            "Z-statistic = 1.067\n",
            "P-value = 0.2861\n",
            "Fail to Reject H0: Not enough evidence to say the mean ≠ 50.\n"
          ]
        }
      ]
    },
    {
      "cell_type": "markdown",
      "source": [
        "Question 8: Write a Python script to simulate data from a normal distribution and calculate the 95% confidence interval for its mean. Plot the data using Matplotlib.\n",
        "(Include your Python code and output in the code box below.)\n"
      ],
      "metadata": {
        "id": "ZmiCVzgpyvsx"
      }
    },
    {
      "cell_type": "code",
      "source": [
        "import numpy as np\n",
        "import matplotlib.pyplot as plt\n",
        "from scipy import stats\n",
        "\n",
        "# Step 1: Simulate normal distribution data\n",
        "np.random.seed(42)  # for reproducibility\n",
        "mu = 50             # true population mean\n",
        "sigma = 5           # true population standard deviation\n",
        "n = 100             # sample size\n",
        "\n",
        "data = np.random.normal(mu, sigma, n)\n",
        "\n",
        "# Step 2: Calculate sample mean and standard error\n",
        "sample_mean = np.mean(data)\n",
        "sample_std = np.std(data, ddof=1)   # sample std with Bessel’s correction\n",
        "se = sample_std / np.sqrt(n)\n",
        "\n",
        "# Step 3: Calculate 95% confidence interval using t-distribution\n",
        "confidence = 0.95\n",
        "t_crit = stats.t.ppf((1 + confidence) / 2, df=n-1)  # critical value\n",
        "margin_of_error = t_crit * se\n",
        "ci_lower = sample_mean - margin_of_error\n",
        "ci_upper = sample_mean + margin_of_error\n",
        "\n",
        "# Step 4: Print results\n",
        "print(f\"Sample Mean = {sample_mean:.3f}\")\n",
        "print(f\"95% Confidence Interval = ({ci_lower:.3f}, {ci_upper:.3f})\")\n",
        "\n",
        "# Step 5: Plot histogram of data\n",
        "plt.hist(data, bins=15, edgecolor='black', alpha=0.7)\n",
        "plt.axvline(sample_mean, color='red', linestyle='dashed', linewidth=2, label=f\"Mean = {sample_mean:.2f}\")\n",
        "plt.axvline(ci_lower, color='green', linestyle='dashed', linewidth=2, label=f\"95% CI Lower = {ci_lower:.2f}\")\n",
        "plt.axvline(ci_upper, color='green', linestyle='dashed', linewidth=2, label=f\"95% CI Upper = {ci_upper:.2f}\")\n",
        "\n",
        "plt.title(\"Normal Distribution Sample with 95% CI for Mean\")\n",
        "plt.xlabel(\"Value\")\n",
        "plt.ylabel(\"Frequency\")\n",
        "plt.legend()\n",
        "plt.show()"
      ],
      "metadata": {
        "colab": {
          "base_uri": "https://localhost:8080/",
          "height": 508
        },
        "id": "VOOEVVkEy1Pe",
        "outputId": "0adadc66-ba10-44ea-85e9-83167ca0a776"
      },
      "execution_count": 4,
      "outputs": [
        {
          "output_type": "stream",
          "name": "stdout",
          "text": [
            "Sample Mean = 49.481\n",
            "95% Confidence Interval = (48.580, 50.382)\n"
          ]
        },
        {
          "output_type": "display_data",
          "data": {
            "text/plain": [
              "<Figure size 640x480 with 1 Axes>"
            ],
            "image/png": "[encoded data removed]"
          },
          "metadata": {}
        }
      ]
    },
    {
      "cell_type": "markdown",
      "source": [
        "Question 9: Write a Python function to calculate the Z-scores from a dataset and visualize the standardized data using a histogram. Explain what the Z-scores represent in terms of standard deviations from the mean.\n",
        "(Include your Python code and output in the code box below)\n",
        "- A Z-score tells us how many standard deviations a data point is away from the mean.\n",
        "\n",
        "Formula:\n",
        "\n",
        "𝑍=(𝑋−𝜇)/𝜎\n",
        "\n",
        "Where:\n",
        "\n",
        " 𝑋 = data point\n",
        "\n",
        " 𝜇 = mean of dataset\n",
        "\n",
        " 𝜎 = standard deviation of dataset\n",
        "\n",
        " Interpretation:\n",
        "\n",
        "Z = 0 → data point is exactly at the mean.\n",
        "\n",
        "Z = +1 → data point is 1 standard deviation above the mean.\n",
        "Z = -2 → data point is 2 standard deviations below the mean.\n"
      ],
      "metadata": {
        "id": "mOPncyVrzGsa"
      }
    },
    {
      "cell_type": "code",
      "source": [
        "import numpy as np\n",
        "import matplotlib.pyplot as plt\n",
        "\n",
        "def z_score_standardization(data):\n",
        "    \"\"\"\n",
        "    Function to calculate Z-scores and plot standardized data.\n",
        "\n",
        "    Parameters:\n",
        "        data (list or np.array): Input dataset.\n",
        "\n",
        "    Returns:\n",
        "        z_scores (np.array): Standardized Z-scores of the dataset.\n",
        "    \"\"\"\n",
        "    data = np.array(data)\n",
        "\n",
        "    # Calculate mean and std deviation\n",
        "    mean = np.mean(data)\n",
        "    std_dev = np.std(data, ddof=1)  # sample standard deviation\n",
        "\n",
        "    # Compute Z-scores\n",
        "    z_scores = (data - mean) / std_dev\n",
        "\n",
        "    # Print summary\n",
        "    print(f\"Mean of original data: {mean:.3f}\")\n",
        "    print(f\"Standard Deviation of original data: {std_dev:.3f}\")\n",
        "    print(f\"First 5 Z-scores: {z_scores[:5]}\")\n",
        "\n",
        "    # Plot histogram of Z-scores\n",
        "    plt.hist(z_scores, bins=10, edgecolor='black', alpha=0.7)\n",
        "    plt.axvline(0, color='red', linestyle='dashed', linewidth=2, label=\"Mean (Z=0)\")\n",
        "    plt.title(\"Histogram of Z-scores (Standardized Data)\")\n",
        "    plt.xlabel(\"Z-score\")\n",
        "    plt.ylabel(\"Frequency\")\n",
        "    plt.legend()\n",
        "    plt.show()\n",
        "\n",
        "    return z_scores\n",
        "\n",
        "# Example dataset\n",
        "sample_data = [49.1, 50.2, 51.0, 48.7, 50.5, 49.8, 50.3, 50.7, 50.2, 49.6,\n",
        "               50.1, 49.9, 50.8, 50.4, 48.9, 50.6, 50.0, 49.7, 50.2, 49.5,\n",
        "               50.1, 50.3, 50.4, 50.5, 50.0, 50.7, 49.3, 49.8, 50.2, 50.9,\n",
        "               50.3, 50.4, 50.0, 49.7, 50.5, 49.9]\n",
        "\n",
        "# Run function\n",
        "z_scores = z_score_standardization(sample_data)"
      ],
      "metadata": {
        "colab": {
          "base_uri": "https://localhost:8080/",
          "height": 527
        },
        "id": "JWWLfwVmzWbG",
        "outputId": "09fd6cf1-d8f2-416c-99bd-b69fa791e18e"
      },
      "execution_count": 5,
      "outputs": [
        {
          "output_type": "stream",
          "name": "stdout",
          "text": [
            "Mean of original data: 50.089\n",
            "Standard Deviation of original data: 0.537\n",
            "First 5 Z-scores: [-1.84309202  0.20708899  1.69812972 -2.58861239  0.76622927]\n"
          ]
        },
        {
          "output_type": "display_data",
          "data": {
            "text/plain": [
              "<Figure size 640x480 with 1 Axes>"
            ],
            "image/png": "[encoded data removed]"
          },
          "metadata": {}
        }
      ]
    },
    {
      "cell_type": "code",
      "source": [],
      "metadata": {
        "id": "3E_4g064zMNw"
      },
      "execution_count": null,
      "outputs": []
    }
  ]
}